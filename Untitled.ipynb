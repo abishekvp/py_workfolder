{
 "cells": [
  {
   "cell_type": "code",
   "execution_count": null,
   "id": "7d2670ff-e118-468e-badf-356a180861e8",
   "metadata": {},
   "outputs": [],
   "source": [
    "import speech_recognition as sr"
   ]
  },
  {
   "cell_type": "code",
   "execution_count": null,
   "id": "5a671103-3bec-47cd-aca3-f26fda022721",
   "metadata": {},
   "outputs": [],
   "source": [
    "# initialize the recognizer\n",
    "r = sr.Recognizer()"
   ]
  },
  {
   "cell_type": "code",
   "execution_count": 1,
   "id": "7ba86773-6aa3-447b-b953-539835e209e9",
   "metadata": {},
   "outputs": [
    {
     "ename": "NameError",
     "evalue": "name 'sr' is not defined",
     "output_type": "error",
     "traceback": [
      "\u001b[1;31m---------------------------------------------------------------------------\u001b[0m",
      "\u001b[1;31mNameError\u001b[0m                                 Traceback (most recent call last)",
      "Cell \u001b[1;32mIn[1], line 1\u001b[0m\n\u001b[1;32m----> 1\u001b[0m \u001b[39mwith\u001b[39;00m sr\u001b[39m.\u001b[39mMicrophone() \u001b[39mas\u001b[39;00m source:\n\u001b[0;32m      2\u001b[0m     \u001b[39m# read the audio data from the default microphone\u001b[39;00m\n\u001b[0;32m      3\u001b[0m     audio_data \u001b[39m=\u001b[39m r\u001b[39m.\u001b[39mrecord(source, duration\u001b[39m=\u001b[39m\u001b[39m5\u001b[39m)\n\u001b[0;32m      4\u001b[0m     \u001b[39m#print(\"Recognizing...\")\u001b[39;00m\n\u001b[0;32m      5\u001b[0m     \u001b[39m# convert speech to text\u001b[39;00m\n",
      "\u001b[1;31mNameError\u001b[0m: name 'sr' is not defined"
     ]
    }
   ],
   "source": [
    "with sr.Microphone() as source:\n",
    "    # read the audio data from the default microphone\n",
    "    audio_data = r.record(source, duration=5)\n",
    "    #print(\"Recognizing...\")\n",
    "    # convert speech to text\n",
    "    text = r.recognize_google(audio_data)\n",
    "    print(text)"
   ]
  },
  {
   "cell_type": "code",
   "execution_count": 1,
   "id": "dfb7b361-b57c-4631-a28c-c8823d49a800",
   "metadata": {},
   "outputs": [
    {
     "ename": "ModuleNotFoundError",
     "evalue": "No module named 'pandas'",
     "output_type": "error",
     "traceback": [
      "\u001b[1;31m---------------------------------------------------------------------------\u001b[0m",
      "\u001b[1;31mModuleNotFoundError\u001b[0m                       Traceback (most recent call last)",
      "Cell \u001b[1;32mIn[1], line 2\u001b[0m\n\u001b[0;32m      1\u001b[0m \u001b[39mimport\u001b[39;00m \u001b[39mnumpy\u001b[39;00m \u001b[39mas\u001b[39;00m \u001b[39mnp\u001b[39;00m\n\u001b[1;32m----> 2\u001b[0m \u001b[39mimport\u001b[39;00m \u001b[39mpandas\u001b[39;00m \u001b[39mas\u001b[39;00m \u001b[39mpd\u001b[39;00m\n\u001b[0;32m      3\u001b[0m \u001b[39mimport\u001b[39;00m \u001b[39mos\u001b[39;00m\n\u001b[0;32m      4\u001b[0m \u001b[39mimport\u001b[39;00m \u001b[39mplotly\u001b[39;00m\u001b[39m.\u001b[39;00m\u001b[39mexpress\u001b[39;00m \u001b[39mas\u001b[39;00m \u001b[39mpx\u001b[39;00m\n",
      "\u001b[1;31mModuleNotFoundError\u001b[0m: No module named 'pandas'"
     ]
    }
   ],
   "source": [
    "import numpy as np\n",
    "import pandas as pd\n",
    "import os\n",
    "import plotly.express as px\n",
    "import matplotlib.pyplot as plt\n",
    "import seaborn as sns\n",
    "pd.options.plotting.backend = 'plotly'  \n",
    "import operator\n",
    "import re"
   ]
  },
  {
   "cell_type": "code",
   "execution_count": null,
   "id": "fb77fe67-fabf-45cb-a91e-32e21bdf1f49",
   "metadata": {},
   "outputs": [],
   "source": [
    "def library():\n",
    "    print('import pandas as pd') \n",
    "    print('import numpy as np') \n",
    "    print('import os') \n",
    "    print('import plotly.express as px') \n",
    "    print('import matplotlib.pyplot as plt') \n",
    "    print('import seaborn as sns')\n",
    "    return "
   ]
  },
  {
   "cell_type": "code",
   "execution_count": null,
   "id": "af7af1ef-8a72-4270-a930-03eb513f6115",
   "metadata": {},
   "outputs": [],
   "source": [
    "def addition():\n",
    "  # Variable for storing the sum\n",
    "  a = 0\n",
    " \n",
    "  # Iterating through the content\n",
    "  # Of the file\n",
    "  for line in text:\n",
    "    for i in line:\n",
    "      # Checking for the digit in\n",
    "      # the string\n",
    "        if i.isdigit() == True:\n",
    "            a += int(i)\n",
    "  print(\"The sum is:\", a)"
   ]
  },
  {
   "cell_type": "code",
   "execution_count": null,
   "id": "135c88a9-9c5d-4ebb-8338-c0513186cecc",
   "metadata": {},
   "outputs": [],
   "source": [
    "def arithmetic():\n",
    "    s = re.sub(r'[^\\w]', ' ', text)\n",
    "    s = s.replace(\"into\", \"\")\n",
    "    s = s.replace(\"by\", \"\")\n",
    "    s = s.replace(\"minus\", \"\")\n",
    "    s = s.replace(\"of\", \"\")\n",
    "    r = s.split()\n",
    "    op, arg1, arg2 = r\n",
    "    arg1 = float(arg1)\n",
    "    arg2 = float(arg2)\n",
    "    operations = {'add': operator.add,\n",
    "              'addition' : operator.add,\n",
    "              'sub' : operator.sub,\n",
    "              'subtract': operator.sub,\n",
    "              'mul': operator.mul,\n",
    "              'multiply': operator.mul,\n",
    "              'division': operator.truediv,\n",
    "              'divide': operator.truediv,\n",
    "              'exponent' : operator.pow,\n",
    "              'modulo' : operator.mod}\n",
    "    if op in operations:\n",
    "        result = operations[op](arg1, arg2)\n",
    "        print(result)\n",
    "    else:\n",
    "        print('Invalid operation: {}'.format(op))"
   ]
  },
  {
   "cell_type": "code",
   "execution_count": null,
   "id": "a93604af-2497-418b-948c-af5501dc8f80",
   "metadata": {},
   "outputs": [],
   "source": [
    "def factorialno():\n",
    "    n = int(''.join(filter(str.isdigit, text)))\n",
    "    if n < 0:\n",
    "        return 0\n",
    "    elif n == 0 or n == 1:\n",
    "        return 1\n",
    "    else:\n",
    "        fact = 1\n",
    "        while(n > 1):\n",
    "            fact *= n\n",
    "            n -= 1\n",
    "        return print(fact)"
   ]
  },
  {
   "cell_type": "code",
   "execution_count": null,
   "id": "1d125218-b433-4e3d-9e3b-b1b918ce6ef7",
   "metadata": {},
   "outputs": [],
   "source": []
  }
 ],
 "metadata": {
  "kernelspec": {
   "display_name": "Python 3 (ipykernel)",
   "language": "python",
   "name": "python3"
  },
  "language_info": {
   "codemirror_mode": {
    "name": "ipython",
    "version": 3
   },
   "file_extension": ".py",
   "mimetype": "text/x-python",
   "name": "python",
   "nbconvert_exporter": "python",
   "pygments_lexer": "ipython3",
   "version": "3.10.10"
  }
 },
 "nbformat": 4,
 "nbformat_minor": 5
}
